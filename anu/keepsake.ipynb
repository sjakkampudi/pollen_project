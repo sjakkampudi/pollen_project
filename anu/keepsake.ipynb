{
 "cells": [
  {
   "cell_type": "code",
   "execution_count": 2,
   "metadata": {},
   "outputs": [],
   "source": [
    "import keepsake"
   ]
  },
  {
   "cell_type": "code",
   "execution_count": 5,
   "metadata": {},
   "outputs": [],
   "source": [
    "experiments = keepsake.experiments.list(filter = lambda e: e.params[\"epochs\"] > 5)"
   ]
  },
  {
   "cell_type": "code",
   "execution_count": 7,
   "metadata": {},
   "outputs": [
    {
     "data": {
      "text/html": [
       "<table><tr><th>id</th><th>created</th><th>params</th><th>latest_checkpoint</th><th>best_checkpoint</th></tr><tr><th>2d4ce93</th><th>2021-04-20 07:32:47.214915</th><th>{&#x27;pool_size&#x27;: 2, &#x27;seed_value&#x27;: 1, &#x27;balance_classes&#x27;: True, &#x27;class_size&#x27;: 720, &#x27;square_filter_size&#x27;: 3, &#x27;epochs&#x27;: 20, &#x27;train_size&#x27;: 0.85, &#x27;dense_layer_dim&#x27;: 168, &#x27;conv_layers&#x27;: 4, &#x27;secret_size&#x27;: 0.05, &#x27;num_filters&#x27;: 32}</th><th>91dab22 (step 20; Accuracy: 0.75)</th><th>91dab22 (step 20; Accuracy: 0.75)</th></tr></table>"
      ],
      "text/plain": [
       "[Experiment(id='2d4ce93f39f4edcdb3b2466c98ba1b2aec0db22dadc5e2636ff3d0e3d1abdc42', created=datetime.datetime(2021, 4, 20, 7, 32, 47, 214915), user='srikanth', host=None, command='pollen.py config/default.ini', config={'repository': 'file:///Users/srikanth/Desktop/School/Research/pollen_project/anu/repository', 'storage': ''}, path='experiment_dir/', params={'pool_size': 2, 'seed_value': 1, 'balance_classes': True, 'class_size': 720, 'square_filter_size': 3, 'epochs': 20, 'train_size': 0.85, 'dense_layer_dim': 168, 'conv_layers': 4, 'secret_size': 0.05, 'num_filters': 32}, python_version='3.7.4', python_packages={'requests': '2.22.0', 'keepsake': '0.4.2', 'pytz': '2019.3', 'tensorboard': '2.1.1', 'py': '1.8.0', 'pandas': '0.25.1', 'asn1crypto': '1.0.1', 'termcolor': '1.1.0', 'bottleneck': '1.2.1', 'jmespath': '0.10.0', 'configobj': '5.0.6', 'h5py': '2.9.0', 'tensorflow': '2.1.0', 'matplotlib': '3.1.1', 'cffi': '1.12.3', 'six': '1.12.0', 'pluggy': '0.13.0', 'psutil': '5.6.3', 'idna': '2.8', 'nose': '1.3.7', 'cryptography': '2.7', 'pyparsing': '2.4.2', 'gast': '0.2.2', 'astor': '0.8.1', 'joblib': '0.13.2', 'sklearn': '0.0', 'botocore': '1.20.36', 'pytest': '5.2.1', 'boto3': '1.14.23', 'certifi': '2019.9.11', 'atomicwrites': '1.3.0', 'scipy': '1.4.1', 'zipp': '0.6.0', 'numpy': '1.17.2', 'urllib3': '1.25.11', 'packaging': '19.2', 'chardet': '3.0.4', 'cycler': '0.10.0', 'wrapt': '1.11.2', 'kiwisolver': '1.1.0'}, keepsake_version='0.4.2', checkpoints=[Checkpoint(id='91dab22d6759c0a74f46398f40f8ba60f14a219a31ff7aa7bdf4a1d85589aeae', created=datetime.datetime(2021, 4, 20, 7, 35, 5, 993243), path='checkpoint_dir/', step=20, metrics={'val_loss': 0.6596854929280529, 'c4_acc': 1, 'c3_acc': 0.8055555555555556, 'Accuracy': 0.75, 'val_acc': 0.8477508425712585, 'c2_acc': 0.5833333333333333, 'c1_acc': 0.75}, primary_metric={'name': 'Accuracy', 'goal': 'maximize'})])]"
      ]
     },
     "execution_count": 7,
     "metadata": {},
     "output_type": "execute_result"
    }
   ],
   "source": [
    "experiments"
   ]
  },
  {
   "cell_type": "code",
   "execution_count": null,
   "metadata": {},
   "outputs": [],
   "source": []
  }
 ],
 "metadata": {
  "kernelspec": {
   "display_name": "Python 3",
   "language": "python",
   "name": "python3"
  },
  "language_info": {
   "codemirror_mode": {
    "name": "ipython",
    "version": 3
   },
   "file_extension": ".py",
   "mimetype": "text/x-python",
   "name": "python",
   "nbconvert_exporter": "python",
   "pygments_lexer": "ipython3",
   "version": "3.7.4"
  }
 },
 "nbformat": 4,
 "nbformat_minor": 2
}
